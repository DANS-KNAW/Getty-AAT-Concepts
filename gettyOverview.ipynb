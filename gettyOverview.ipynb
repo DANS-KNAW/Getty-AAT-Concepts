{
 "cells": [
  {
   "cell_type": "markdown",
   "metadata": {},
   "source": [
    "# Getty AAT"
   ]
  },
  {
   "cell_type": "markdown",
   "metadata": {},
   "source": [
    "## What is the AAT? "
   ]
  },
  {
   "cell_type": "markdown",
   "metadata": {},
   "source": [
    "The **Getty Arts & Architecture Thesauris** is a multilingual, semantically structured thesaurus, or structured vocabulary. It encompases terms, descriptions, and other information for generic concepts related to art, architecture, archaeology, and other cultural heritage ([Cobb, 2015](https://doi.org/10.1080/19386389.2015.1103081)).\n",
    "\n",
    "\n",
    "- The full published data set contains around 57,390 records (subject_id) and 503,230 terms (term_id), as of 25 August 2022)\n",
    "  - Subject_ids contain one or more terms (plural, translations, spelling variations etc.)\n",
    "- It's translated completely to Dutch by the Netherlands Institute for Art History (more info needed)\n",
    "- It's also released as Linked Open Data, described using RDF. \n",
    "- A minimum record in AAT contains a numeric ID, a term, and a position in the hierarchy.\n"
   ]
  },
  {
   "cell_type": "markdown",
   "metadata": {},
   "source": [
    "\n",
    "--------> TODO: use .ttl instead of .xml <-------- \\\n",
    "See the file `AAT.xml` for a sample of AAT. It shows the structure of the vocabulary. \n",
    "You can see that the file starts with Subject 300015646, which is a child of the Styles and Periods Facet (lines 6 and 9). "
   ]
  },
  {
   "cell_type": "markdown",
   "metadata": {},
   "source": [
    "### Terminology\n",
    "- `Facet`: The major subdivision of AAT's hierarchical structure, containing classes of concepts.  \n",
    "- `Hierarchy`: Groupings of terminology that are arranged within the seven facets.  \n",
    "- `Record`: A single entry that contains information about a specific concept.  \n",
    "- `Term`: A word or phrase that represents the concept in the record. Includes singular/plural forms, spelling variations, and translations. A record can contain multiple terms.   \n",
    "- `Descriptor` or preferred term: The term that will by default used to refer to a concept. "
   ]
  },
  {
   "cell_type": "markdown",
   "metadata": {},
   "source": [
    "Here's an example of a record:\n",
    "\n",
    "<div>\n",
    "<img src=\"img/example_record.png\" width=\"500\"/>\n",
    "</div>\n",
    "\n",
    "\n",
    "[Image source](https://www.getty.edu/research/tools/vocabularies/aat/AAT-Users-Manual.pdf)"
   ]
  },
  {
   "cell_type": "markdown",
   "metadata": {},
   "source": [
    "## What does it contain?"
   ]
  },
  {
   "cell_type": "markdown",
   "metadata": {},
   "source": [
    "The [AAT](https://www.getty.edu/vow/AATHierarchy?find=beauty&logic=AND&note=&page=1&subjectid=300000000) is a faceted, hierarchical database of concepts. The root is called \"Top of the AAT hierarchies\". It contains seven ***facets*** that form the major subdivisions, each containing a class of concepts. Each facet contains one or more ***hierarchies***. "
   ]
  },
  {
   "cell_type": "markdown",
   "metadata": {},
   "source": [
    "- `Root`: Top of the AAT hierarchies \n",
    "\t- `ASSOCIATED CONCEPT` FACET\n",
    "\t\t- Associated Concepts\n",
    "\t- `PHYSICAL ATTRIBUTES` FACET\n",
    "\t\t- Attributes and Properties\n",
    "\t\t- Conditions and Effects\n",
    "\t\t- Design Elements\n",
    "\t\t- Color\n",
    "\t- `STYLES AND PERIODS` FACET\n",
    "\t\t- Styles and Periods\n",
    "\t- `AGENTS` FACET\n",
    "\t\t- People\n",
    "\t\t- Organizations\n",
    "\t\t- Living Organisms\n",
    "\t- `ACTIVITIES` FACET\n",
    "\t\t- Disciplines\n",
    "\t\t- Functions\n",
    "\t\t- Events\n",
    "\t\t- Physical and Mental Activities\n",
    "\t\t- Processes and Techniques\n",
    "\t- `MATERIALS` FACET\n",
    "\t\t- Materials\n",
    "\t- `OBJECTS` FACET\n",
    "\t\t- Object Groupings and Systems\n",
    "\t\t- Object Genres \n",
    "\t\t- Components\n",
    "\t\t- Built Environment\n",
    "\t\t\t- Settlements and Landscapes\n",
    "\t\t\t- Built Complexes and Districts\n",
    "\t\t\t- Single Built Works\n",
    "\t\t\t- Open Spaces and Site Elements\n",
    "\t\t- Furnishings and Equipment\n",
    "\t\t\t- Furnishings\n",
    "\t\t\t- Costume\n",
    "\t\t\t- Tools and Equipment\n",
    "\t\t\t- Weapons and Ammunition\n",
    "\t\t\t- Measuring Devices\n",
    "\t\t\t- Containers\n",
    "\t\t\t- Sound Decides\n",
    "\t\t\t-  Recreational Artifacts\n",
    "\t\t\t- Transportation Vehicles\n",
    "\t\t- Visual and Verbal Communication\n",
    "\t\t\t- Visual Works\n",
    "\t\t\t- Exchange Media\n",
    "\t\t\t- Information Forms\n",
    "\t- `BRAND NAMES` FACET\n",
    "\t\t- Brand Names\n"
   ]
  },
  {
   "cell_type": "markdown",
   "metadata": {},
   "source": [
    "- There's different `Record_Types` for nodes:\n",
    "    - Facet\n",
    "    - Hierarchy\n",
    "    - Concept\n",
    "    - GuideTerm (placeholder to create a level in the hierarchy)\n",
    "    - (ScopeNote)\n",
    "    - (ObsoleteSubject)\n"
   ]
  },
  {
   "cell_type": "markdown",
   "metadata": {},
   "source": [
    "![example of the use of different terms](img/008-complex-hierarchy.png)\n",
    "\n",
    "[image source](https://vocab.getty.edu/doc/#Term)"
   ]
  },
  {
   "cell_type": "markdown",
   "metadata": {},
   "source": [
    "## How can it be used? "
   ]
  },
  {
   "cell_type": "markdown",
   "metadata": {},
   "source": [
    "\n",
    "#### [SPARQL Endpoint](https://vocab.getty.edu/)\n",
    "\n",
    "- Concepts are indentified by their 'Subject_ID'\n",
    "\n",
    "- The AAT is availavble in the following formats: XML, relational tables, N-Tripes (LOD)\n",
    "- Individual records can be downloaded in JSON, RDF, N3/Turtle, N-Tripes\n"
   ]
  },
  {
   "cell_type": "markdown",
   "metadata": {},
   "source": [
    "#### [API](http://vocabsservices.getty.edu/Docs/Getty_Vocabularies_Web_Services_Documentation_v2.pdf)\n",
    "- [AAT Programming guidelines](http://vocabsservices.getty.edu/AATService.asmx)\n",
    "  - a set of 11 operations are supported, such as GetChildren, GetParents, GetSubjectTerms\n",
    "  - examples included in SOAP 1.1 and 1.2, HTTP GET, and HTTP POST protocols\n",
    "- Try out the GetChildren operation with HTTP POST protocol [here](http://vocabsservices.getty.edu/AATService.asmx?op=AATGetChildren) (subjectID: 300015646)\n",
    "\n",
    "- Or run HTTP GET requests for some operators (see [GetParentLabel](http/getparentlabel.http) and [getSubjectTerms](http/getsubjectterms.http))\n"
   ]
  },
  {
   "cell_type": "markdown",
   "metadata": {},
   "source": [
    "## What parts should be used in dataverse-nl/SSH? "
   ]
  },
  {
   "cell_type": "markdown",
   "metadata": {},
   "source": [
    "[Good example: termennetwerk](https://termennetwerk.netwerkdigitaalerfgoed.nl/)\n",
    "\n",
    "\n",
    "What would be useful properties to keep? \n",
    "- `Subject_ID` allows for a link back to the source \n",
    "- `Term_Language` (possibly only keep Dutch entries)\n",
    "- `Term_ID`\n",
    "- `Term_Text`\n",
    "\n",
    "\n"
   ]
  },
  {
   "cell_type": "markdown",
   "metadata": {},
   "source": [
    "### Let's look at the facets "
   ]
  },
  {
   "cell_type": "markdown",
   "metadata": {},
   "source": [
    "[`Associated concepts`](https://www.getty.edu/vow/AATHierarchy?find=beauty&logic=AND&note=&subjectid=300179462)\n",
    "- e.g. philosofical concepts, scientific concepts etc\n",
    "+ leaf nodes useful\n",
    "± hierarchy names sometimes useful\n",
    "\n",
    "\n",
    "[`Physical attributes`](https://www.getty.edu/vow/AATHierarchy?find=beauty&logic=AND&note=&page=1&subjectid=300264087)\n",
    "- leaf nodes not that useful (too specific)\n",
    "± hierarchy names somewhat useful\n",
    "\n",
    "\n",
    "[`Styles and Periods`](https://www.getty.edu/vow/AATHierarchy?find=beauty&logic=AND&note=&subjectid=300015646)\n",
    "+ nodes under the hierarchy nodes useful\n",
    "+ hierarchy nodes and guide terms not useful\n",
    "\n",
    "\n",
    "\n",
    "[`Agents`](https://www.getty.edu/vow/AATHierarchy?find=beauty&logic=AND&note=&page=1&subjectid=300264089)\n",
    "- categories of people/organizations/animals/plants\n",
    "- too detailed?\n",
    "- node leafs or node leafs -1 might be useful \n",
    "- \n",
    "\n",
    "\n",
    "[`Activities`](https://www.getty.edu/vow/AATHierarchy?find=beauty&logic=AND&note=&subjectid=300264090)\n",
    "- does not seem really useful to me \n",
    "- a lot of verbs that you probably wouldn't use to describe a dataset \n",
    "\n",
    "[`Materials`]()\n",
    "- hierarchy/guide terms nodes are not useful \n",
    "- not sure if the leaf nodes are interesting \n",
    "\n",
    "[`Objects`](https://www.getty.edu/vow/AATHierarchy?find=beauty&logic=AND&note=&subjectid=300264092)\n",
    "- largest category \n",
    "- hierarchy nodes useful\n",
    "- leaf nodes useful (when of hierarchy nodes)\n",
    "- deeper leaf nodes may be too specific (e.g. types of comic operas)\n",
    "\n",
    "\n",
    "[`Brand Names`]()\n",
    "- not useful for our purpose, was introduced by the conservation community for materials/processes/objects don't have a generic name but rather a name under trademark protection. \n",
    "\n",
    "\n",
    "\n",
    "--> I'd say `Associated concepts`, `Styles and Periods`, and `Objects` are the facets with the concepts that could be most useful as keywords for finding/describing datasets.  "
   ]
  },
  {
   "cell_type": "markdown",
   "metadata": {},
   "source": [
    "## Notes\n",
    "- Entailment? Do we want to keep the hierarchical relationships in place? So if you were to search for \"painting \", do you want to match all terms it contains? or only the exact level? \n",
    "- Overall, hierarchy names seem like good categories to me, but so do the leaf nodes. Facets and guide terms don't seem that useful for this use. The usefulness of concepts depends on the facet (sometimes too fine-grained)"
   ]
  }
 ],
 "metadata": {
  "kernelspec": {
   "display_name": "Python 3",
   "language": "python",
   "name": "python3"
  },
  "language_info": {
   "codemirror_mode": {
    "name": "ipython",
    "version": 3
   },
   "file_extension": ".py",
   "mimetype": "text/x-python",
   "name": "python",
   "nbconvert_exporter": "python",
   "pygments_lexer": "ipython3",
   "version": "3.13.0"
  }
 },
 "nbformat": 4,
 "nbformat_minor": 2
}
