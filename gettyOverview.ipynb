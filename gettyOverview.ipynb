{
 "cells": [
  {
   "cell_type": "markdown",
   "metadata": {},
   "source": [
    "# Getty AAT"
   ]
  },
  {
   "cell_type": "markdown",
   "metadata": {},
   "source": [
    "## What is the AAT? "
   ]
  },
  {
   "cell_type": "markdown",
   "metadata": {},
   "source": [
    "The **Getty Arts & Architecture Thesauris** is a multilingual, semantically structured thesaurus. It encompases terms, descriptions, and other information for generic concepts related to art, architecture, archaeology, and other cultural heritage ([Cobb, 2015](https://doi.org/10.1080/19386389.2015.1103081)).\n",
    "\n",
    "\n",
    "- The full published data set contains around 57,390 records (subject_id, as of 25 August 2022)\n",
    "\n",
    "- It's translated completely to Dutch by the Netherlands Institute for Art History \n",
    "- It's also released as Linked Open Data, described using RDF. \n",
    "- "
   ]
  },
  {
   "cell_type": "markdown",
   "metadata": {},
   "source": [
    "## What does it contain?"
   ]
  },
  {
   "cell_type": "markdown",
   "metadata": {},
   "source": [
    "The AAT is a hierarchical database of concepts. The root is called \"Top of the AAT hierarchies\". It contains seven ***facets*** that form the major subdivisions, each containing a class of concepts. Each facet contains one or more ***hierarchies***. "
   ]
  },
  {
   "cell_type": "markdown",
   "metadata": {},
   "source": [
    "- Root: Top of the AAT hierarchies \n",
    "\t- ASSOCIATED CONCEPT FACET\n",
    "\t\t- Associated Concepts\n",
    "\t- PHYSICAL ATTRIBUTES FACET\n",
    "\t\t- Attributes and Properties\n",
    "\t\t- Conditions and Effects\n",
    "\t\t- Design Elements\n",
    "\t\t- Color\n",
    "\t- STYLES AND PERIODS FACET\n",
    "\t\t- Styles and Periods\n",
    "\t- AGENTS FACET\n",
    "\t\t- People\n",
    "\t\t- Organizations\n",
    "\t\t- Living Organisms\n",
    "\t- ACTIVITIES FACET\n",
    "\t\t- Disciplines\n",
    "\t\t- Functions\n",
    "\t\t- Events\n",
    "\t\t- Physical and Mental Activities\n",
    "\t\t- Processes and Techniques\n",
    "\t- MATERIALS FACET\n",
    "\t\t- Materials\n",
    "\t- OBJECTS FACET\n",
    "\t\t- Object Groupings and Systems\n",
    "\t\t- Object Genres \n",
    "\t\t- Components\n",
    "\t\t- *Built Environment*\n",
    "\t\t\t- Settlements and Landscapes\n",
    "\t\t\t- Built Complexes and Districts\n",
    "\t\t\t- Single Built Works\n",
    "\t\t\t- Open Spaces and Site Elements\n",
    "\t\t- *Furnishings and Equipment*\n",
    "\t\t\t- Furnishings\n",
    "\t\t\t- Costume\n",
    "\t\t\t- Tools and Equipment\n",
    "\t\t\t- Weapons and Ammunition\n",
    "\t\t\t- Measuring Devices\n",
    "\t\t\t- Containers\n",
    "\t\t\t- Sound Decides\n",
    "\t\t\t-  Recreational Artifacts\n",
    "\t\t\t- Transportation Vehicles\n",
    "\t\t- *Visual and Verbal Communication*\n",
    "\t\t\t- Visual Works\n",
    "\t\t\t- Exchange Media\n",
    "\t\t\t- Information Forms\n",
    "\t- BRAND NAMES FACET\n",
    "\t\t- Brand Names\n"
   ]
  },
  {
   "cell_type": "markdown",
   "metadata": {},
   "source": [
    "## When is it used?"
   ]
  },
  {
   "cell_type": "markdown",
   "metadata": {},
   "source": [
    "## How can it be used? "
   ]
  },
  {
   "cell_type": "markdown",
   "metadata": {},
   "source": [
    "\n",
    "[SPARQL Endpoint](https://vocab.getty.edu/)\n",
    "\n",
    "\n",
    "\n",
    "Concepts are indentified by their 'Subject_ID'"
   ]
  },
  {
   "cell_type": "markdown",
   "metadata": {},
   "source": [
    "## What parts should be used in dataverse-nl? "
   ]
  },
  {
   "cell_type": "markdown",
   "metadata": {},
   "source": [
    "[good example: termennetwerk](https://termennetwerk.netwerkdigitaalerfgoed.nl/)\n",
    "\n",
    "\n",
    "What would be useful properties to keep? \n",
    "- `Subject_ID` (see source)\n",
    "- `Term_Language` /  (possibly only keep Dutch entries?)\n",
    "\n",
    "\n"
   ]
  },
  {
   "cell_type": "markdown",
   "metadata": {},
   "source": [
    "## Questions / Issues\n",
    "- The AAT is not comprehensive but continues to grow through contributions. Would that continuously be updated? "
   ]
  },
  {
   "cell_type": "markdown",
   "metadata": {},
   "source": [
    "## Notes\n",
    "- I can imagine that the higher concepts are less useful when describing or searching for a dataset \n",
    "- Do we want to keep the hierarchical relationships in place? So if you were to search for \"painting \", do you "
   ]
  }
 ],
 "metadata": {
  "kernelspec": {
   "display_name": "env",
   "language": "python",
   "name": "python3"
  },
  "language_info": {
   "codemirror_mode": {
    "name": "ipython",
    "version": 3
   },
   "file_extension": ".py",
   "mimetype": "text/x-python",
   "name": "python",
   "nbconvert_exporter": "python",
   "pygments_lexer": "ipython3",
   "version": "3.13.0"
  }
 },
 "nbformat": 4,
 "nbformat_minor": 2
}
