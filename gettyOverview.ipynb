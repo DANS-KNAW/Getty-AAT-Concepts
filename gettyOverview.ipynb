{
 "cells": [
  {
   "cell_type": "markdown",
   "metadata": {},
   "source": [
    "# [The Getty Arts & Architecture Thesaurus]((https://www.getty.edu/research/tools/vocabularies/aat/)) (AAT) "
   ]
  },
  {
   "cell_type": "markdown",
   "metadata": {},
   "source": [
    "Note: this NoteBook is written with the assumption that you run it in [Visual Studio Code](https://code.visualstudio.com/), with the following extensions: Python, SPARQL Executor, and REST Client. Some functionality may otherwise not be available. "
   ]
  },
  {
   "cell_type": "markdown",
   "metadata": {},
   "source": [
    "## What is the AAT? "
   ]
  },
  {
   "cell_type": "markdown",
   "metadata": {},
   "source": [
    "The [**Getty Arts & Architecture Thesaurus**](https://www.getty.edu/research/tools/vocabularies/aat/) is a multilingual, semantically structured **controlled vocabulary**. It encompases terms, descriptions, and other information for generic concepts related to visual art, architecture, archaeology, and other cultural heritage. Importantly, the AAT contains generic terms, not iconographic subjects or proper names. In other words: [\"each concept is a case of many (a generic thing), not a case of one (a specific thing)\"](https://www.getty.edu/research/tools/vocabularies/aat/about.html). The full AAT database contains around 74,460 concept records (subject_id) and 503,230 terms (term_id). Each concept record contains one or more terms (e.g., singular/plural forms, spelling variations, translations). A record minimally contains a unique numeric id, a term, and an indication for the position in the structured hierarchy. Often it also contains a description of the term, a list of associated or equivalent terms and temporal information. The AAT is translated to Dutch by the Netherlands Institute for Art History. Note that the AAT is a compiled resource, so it's not a complete, definitive collection of concepts. It expands through community [contributions](https://www.getty.edu/research/tools/vocabularies/contributors.html) by domain experts. \n"
   ]
  },
  {
   "cell_type": "markdown",
   "metadata": {},
   "source": [
    "### Terminology\n",
    "Here you find a list of the most important terminology related to the AAT. \n",
    "- `Facet`: The major subdivision or upper layer of AAT's hierarchical structure, each containing classes of concepts. In total, there are 7 facets.  \n",
    "- `Hierarchy`: Groupings of terminology that are arranged within the facets.  \n",
    "- `Record`: A single entry that contains information about a specific concept.  \n",
    "- `Term`: A word or phrase that represents the concept in the record. Includes singular/plural forms, spelling variations, and translations. A record can contain multiple terms.   \n",
    "- `Descriptor` or preferred term: The term that will by default used to refer to a concept. "
   ]
  },
  {
   "cell_type": "markdown",
   "metadata": {},
   "source": [
    "Take a look at this example record, and see the terminology in practice. \n",
    "\n",
    "<div>\n",
    "<img src=\"img/example_record.png\" width=\"500\"/>\n",
    "</div>\n",
    "\n",
    "\n",
    "[Image source](https://www.getty.edu/research/tools/vocabularies/aat/AAT-Users-Manual.pdf), p32. "
   ]
  },
  {
   "cell_type": "markdown",
   "metadata": {},
   "source": [
    "## What does the AAT contain?\n",
    "\n",
    "The AAT is structured as a hierarchical database of concepts, containing seven **facets** that each host a number of **hierarchies**. Below you can see an outline of the facets and hierarchies, including example terms. See [here](https://www.getty.edu/vow/AATHierarchy?find=beauty&logic=AND&note=&page=1&subjectid=300000000) for a collapsable overview on the Getty website. It allows you to browse through the structure and inspect the leaf nodes. \n",
    "\n",
    "The root of the structure is called *Top of the AAT hierarchies*. Each facet contains a clickable link to their hierarchy on the Getty website.\n",
    "\n",
    "Most facets are relatively straightforward in their meaning. The final facet, *Brand Names*, allows for necessary additions by the conservation community, particularly where a material, process, or object does not have a generic name and the names are under trademark protection. The largest facet is the *Objects* facet. "
   ]
  },
  {
   "cell_type": "markdown",
   "metadata": {},
   "source": [
    "- [`Root`](https://www.getty.edu/vow/AATHierarchy?find=beauty&logic=AND&note=&subjectid=300000000): **Top of the AAT hierarchies**\n",
    "\t- [`ASSOCIATED CONCEPT`](https://www.getty.edu/vow/AATHierarchy?find=beauty&logic=AND&note=&subjectid=300179462) FACET \\\n",
    "\t\t(e.g. *beauty*, *socialism*, *cultural pluralism*)\n",
    "\t\t- Associated Concepts \n",
    "\t- [`PHYSICAL ATTRIBUTES`](https://www.getty.edu/vow/AATHierarchy?find=beauty&logic=AND&note=&page=1&subjectid=300264087) FACET \\\n",
    "\t\t(e.g. *borders, round, waterlogged*)\n",
    "\t\t- Attributes and Properties\n",
    "\t\t- Conditions and Effects\n",
    "\t\t- Design Elements\n",
    "\t\t- Color\n",
    "\t- [`STYLES AND PERIODS`](https://www.getty.edu/vow/AATHierarchy?find=beauty&logic=AND&note=&subjectid=300015646) FACET \\\n",
    "\t\t(e.g. *Abstract Expressionist, Yoruba*)\n",
    "\t\t- Styles and Periods\n",
    "\t- [`AGENTS`](https://www.getty.edu/vow/AATHierarchy?find=beauty&logic=AND&note=&page=1&subjectid=300264089) FACET \\\n",
    "\t\t(e.g. *printmakers, landscape architects*)\n",
    "\t\t- People\n",
    "\t\t- Organizations\n",
    "\t\t- Living Organisms\n",
    "\t- [`ACTIVITIES`](https://www.getty.edu/vow/AATHierarchy?find=beauty&logic=AND&note=&subjectid=300264090) FACET \\\n",
    "\t\t(e.g. *archaeology, engineering, analyzing*)\n",
    "\t\t- Disciplines\n",
    "\t\t- Functions\n",
    "\t\t- Events\n",
    "\t\t- Physical and Mental Activities\n",
    "\t\t- Processes and Techniques\n",
    "\t- [`MATERIALS`](https://www.getty.edu/vow/AATHierarchy?find=beauty&logic=AND&note=&subjectid=300264091) FACET \\\n",
    "\t\t(e.g. *iron, clay, artificial ivory*)\n",
    "\t\t- Materials\n",
    "\t- [`OBJECTS`](https://www.getty.edu/vow/AATHierarchy?find=beauty&logic=AND&note=&subjectid=300264092) FACET \\\n",
    "\t\t(e.g. *paintings, facades, cathedrals, chairs*)\n",
    "\t\t- Object Groupings and Systems\n",
    "\t\t- Object Genres \n",
    "\t\t- Components\n",
    "\t\t- Built Environment\n",
    "\t\t\t- Settlements and Landscapes\n",
    "\t\t\t- Built Complexes and Districts\n",
    "\t\t\t- Single Built Works\n",
    "\t\t\t- Open Spaces and Site Elements\n",
    "\t\t- Furnishings and Equipment\n",
    "\t\t\t- Furnishings\n",
    "\t\t\t- Costume\n",
    "\t\t\t- Tools and Equipment\n",
    "\t\t\t- Weapons and Ammunition\n",
    "\t\t\t- Measuring Devices\n",
    "\t\t\t- Containers\n",
    "\t\t\t- Sound Decides\n",
    "\t\t\t-  Recreational Artifacts\n",
    "\t\t\t- Transportation Vehicles\n",
    "\t\t- Visual and Verbal Communication\n",
    "\t\t\t- Visual Works\n",
    "\t\t\t- Exchange Media\n",
    "\t\t\t- Information Forms\n",
    "\t- [`BRAND NAMES`](https://www.getty.edu/vow/AATHierarchy?find=beauty&logic=AND&note=&subjectid=300343372) FACET \\\n",
    "\t\t(e.g. *Agfacolor, Arches paper*)\n",
    "\t\t- Brand Names\n"
   ]
  },
  {
   "cell_type": "markdown",
   "metadata": {},
   "source": [
    "### Take a look under the hood: a Turtle file\n",
    "The AAT was originally released in XML and Relational Table formats. More recently, it has been made available as[ Linked Open Data (LOD)](https://www.getty.edu/research/tools/vocabularies/lod/index.html) in JSON, RDF, N3/Turtle, and N-Triples formats. It's recommended to not work with the XML or Relational Table formats because they may become obsolete in the future. The LOD options are the more robust choice. \n",
    "\n",
    "Let's take a look at what a single record can look like in [Turtle](https://en.wikipedia.org/wiki/Turtle_(syntax)) (Terse RDF Triple Language, or .ttl) format. Turtle is a syntax for expressing data in the Resource Description Framework (RDF), which is used to represent information about resources in the web and data interchange. Turtle is designed to be more human-readable compared to other RDF syntaxes, like XML. Turtle supports the use of URIs to uniquely identify concepts, improving data retrieval and linking related information. \n",
    "\n",
    "\n",
    "Open the [aat_300123559.ttl file](sparql/aat_300123559.ttl) in a new window and try to identify the following information: \n",
    "- The record identifier \n",
    "- The label name \n",
    "- The date of the most recent modification\n",
    "- The parent label\n",
    "- The Dutch translations\n",
    "\n"
   ]
  },
  {
   "cell_type": "markdown",
   "metadata": {},
   "source": [
    "You may have found that the record identifier is *300123559*, the label name *Attributes and Properties (hierarchy name)*, the date of the most recent modification *2015-07-03*, and the parent label *Physical Attributes Facet*. The Dutch translations of the terms and the descriptions are accessible through the `@nl` tags "
   ]
  },
  {
   "cell_type": "markdown",
   "metadata": {},
   "source": [
    "## How can the AAT be used? \n",
    "The AAT can be downloaded in various formats for local use, but more integrated options are available, such as the SPARQL Endpoint and the API. See the sections below with information on how to use them. "
   ]
  },
  {
   "cell_type": "markdown",
   "metadata": {},
   "source": [
    "\n",
    "### [SPARQL Endpoint](https://vocab.getty.edu/)\n",
    "With the SPARQL Endpoint you can take advantage of the linked data principles that are integrated in the AAT, and it allows you to perform complex queries. \n",
    "\n",
    "Below you find a Python implementation of a SPARQL query. It contains a simple query that retrieves all term labels that correspond to a given record. You can change the output by specifying different `subjectID`s"
   ]
  },
  {
   "cell_type": "code",
   "execution_count": null,
   "metadata": {},
   "outputs": [],
   "source": [
    "%pip install SPARQLWrapper"
   ]
  },
  {
   "cell_type": "code",
   "execution_count": 1,
   "metadata": {},
   "outputs": [
    {
     "name": "stdout",
     "output_type": "stream",
     "text": [
      "Subject ID:  300008458\n",
      "    label:  cathedral cities\n",
      "    label:  cathedral city\n",
      "    label:  cities, cathedral\n",
      "    label:  domsteden\n",
      "    label:  domstad\n",
      "\n",
      "Subject ID:  300386018\n",
      "    label:  Costa Rican\n",
      "    label:  Costa Ricaans\n",
      "\n"
     ]
    }
   ],
   "source": [
    "from SPARQLWrapper import SPARQLWrapper, JSON\n",
    "\n",
    "def query_getty_aat(subjectID):\n",
    "    # Define the SPARQL endpoint\n",
    "    endpoint = \"http://vocab.getty.edu/sparql\"\n",
    "    \n",
    "    # Define the SPARQL query with the input subjectID\n",
    "    knows_query = f\"\"\"\n",
    "    PREFIX aat: <http://vocab.getty.edu/aat/>\n",
    "    PREFIX rdfs: <http://www.w3.org/2000/01/rdf-schema#>\n",
    "    SELECT * {{\n",
    "        aat:{subjectID} rdfs:label ?label .\n",
    "        FILTER (LANG(?label) = 'nl'  || LANG(?label) = 'en'   )  \n",
    "    }}\"\"\"\n",
    "    \n",
    "    # Initialize the SPARQL wrapper\n",
    "    sparql = SPARQLWrapper(endpoint)\n",
    "    sparql.setQuery(knows_query)\n",
    "    sparql.setReturnFormat(JSON)\n",
    "    \n",
    "    # Execute the query and get the results\n",
    "    results = sparql.query().convert()\n",
    "    \n",
    "    # Print the results\n",
    "    print(\"Subject ID: \", subjectID)\n",
    "    for result in results[\"results\"][\"bindings\"]:\n",
    "        #print(\"subjectID:\", subjectID)\n",
    "        print(\" \"*3, \"label: \", result[\"label\"][\"value\"])\n",
    "    \n",
    "    print()\n",
    "\n",
    "######## Change the subjectIDs here ########\n",
    "subjectIDs = [\"300008458\", \"300386018\"]\n",
    "\n",
    "\n",
    "for subjectID in subjectIDs:\n",
    "    query_getty_aat(subjectID)\n",
    "\n"
   ]
  },
  {
   "cell_type": "markdown",
   "metadata": {},
   "source": [
    "### [API](http://vocabsservices.getty.edu/Docs/Getty_Vocabularies_Web_Services_Documentation_v2.pdf)\n",
    "\n",
    "\n",
    "The AAT also offers an **API** (Application Programming Interface), a tool that allows developers to access and manipulate data programmatically. This makes it easier to integrate into applications and websites.\n",
    "\n",
    "The API provides a straightforward way to retrieve specific information, such as related terms or hierarchical structures. It supports [various operations](http://vocabsservices.getty.edu/AATService.asmx), including **GetChildren** and **GetParents**, which allow you to explore the relationships between concepts. The API supports different protocols like **SOAP** and **HTTP**. \n",
    "\n",
    "To get started with the API, you can try out the **GetChildren** operation using the **HTTP POST** method. For example, you can access it [here](http://vocabsservices.getty.edu/AATService.asmx?op=AATGetChildren) with a specific subject ID, such as `300015646`.\n",
    "\n",
    "Alternatively, can run **HTTP GET** requests for the operators that are included in the current repositoey (see the files [GetParentLabel](http/getparentlabel.http) and [getSubjectTerms](http/getsubjectterms.http)). \n",
    "\n",
    "\n",
    " Alternatively, you can run **HTTP GET** requests to retrieve data in a more straightforward manner. This combination of ease of use and powerful querying capabilities makes the API an excellent choice for leveraging the Getty's extensive thesaurus data. You can run them by clicking the `Send request` button \n",
    "\n",
    "\n",
    "\n",
    "\n",
    "\n",
    "- [AAT Programming guidelines](http://vocabsservices.getty.edu/AATService.asmx)\n",
    "  - a set of 11 operations are supported, such as GetChildren, GetParents, GetSubjectTerms\n",
    "  - examples included in SOAP 1.1 and 1.2, HTTP GET, and HTTP POST protocols\n",
    "- Try out the GetChildren operation with HTTP POST protocol [here](http://vocabsservices.getty.edu/AATService.asmx?op=AATGetChildren) (subjectID: 300015646)\n",
    "\n",
    "- Or run HTTP GET requests for some operators (see [GetParentLabel](http/getparentlabel.http) and [getSubjectTerms](http/getsubjectterms.http))\n"
   ]
  },
  {
   "cell_type": "markdown",
   "metadata": {},
   "source": [
    "## AAT in other projects \n",
    "\n",
    "\n",
    "- [Termennetwerk](https://termennetwerk.netwerkdigitaalerfgoed.nl/) presents a Dutch search engine for terms, and links them to their URIs in a variety of thesauri. \n",
    "\n",
    "- [Europeana](https://www.europeana.eu/en) is an online information portal that provides access to millions of cultural heritage\n",
    "resources by aggregating metadata from museums, libraries, and archives across Europe. A part of their records are encoded with AAT URIs, which they use to retrieve translations of the records [(source)](https://doi.org/10.7152/nasko.v5i1.15179 ).  \n",
    "\n",
    "- The paper [A Methodology for Semantic Enrichment of Cultural Heritage Images Using Artificial Intelligence Technologies](https://doi.org/10.3390/jimaging7080121) proposes a method that enables analysis and enrichment of a collection of cultural images. Their test case is concerned with food in a cultural context, and thus includes a body of food-related images. They combine the use of ontologies (including AAT) to consistently represent concepts, with Computer Vision tools to enrich the image descriptions.\n",
    "\n",
    "- [\"Linking HBIM graphical and semantic information through the Getty AAT\"](https://doi.org/10.1088/1757-899X/364/1/012100)\n"
   ]
  },
  {
   "cell_type": "markdown",
   "metadata": {},
   "source": [
    "## Other Getty Vocabularies\n",
    "\n",
    "### [ULAN](https://www.getty.edu/research/tools/vocabularies/ulan/about.html)\n",
    "The AAT is one example of the vocabularies that are developed by the Getty Institute. There's [more](https://www.getty.edu/research/tools/vocabularies/index.html), for example the Union List of Artist Names (ULAN). It contains records for artists and agents in the cultural landscape, specifically the visual arts. This includes [names, relationships, and biographical information for makers and other people and corporate bodies](https://www.getty.edu/research/tools/vocabularies/ulan/about.html#scope).\n",
    "\n",
    "Similar to the AAT, the ULAN consists or *records*, in this case referring to a unique person, institute or corporation. A record can contain mutliple *terms* that may capture [given names, pseudonyms, variant spellings, names in multiple languages, and names that have changed over time](https://www.getty.edu/research/tools/vocabularies/ulan/about.html#scope). A minimal record contains the following fields: record type, name, name source, display biography, nationality, role, birth date and death date. \n",
    "\n",
    "See an overview of the ULAN Facets below. Information is taken from the [ULAN documentation](https://www.getty.edu/research/tools/vocabularies/ulan/about.html#scope)\n",
    "\n",
    "\n",
    "- `PERSONS, ARTIST` Facet: represents information about individuals involved in the creation or production of works of art or architecture (e.g., *Rembrandt van Rijn*)\n",
    "- `CORPORATE BODIES` Facet: represents information about corporate bodies, defined as two or more people working together to create or produce art or architecture (e.g., *Adler and Sullivan*)\n",
    "- `NON-ARTISTS` Facet: mostly represents patrons, who often had input in the creative process, and occasionally donors, sitters, and others whose names are required for indexing visual works but who are themselves not artists.  \n",
    "- `UNKNOWN PEOPLE BY CULTURE` Facet: refers to the generic culture in which a work was created (e.g. *unknown Aztec*, or simply *Aztec*)\n",
    "- `UNIDENTIFIED NAMED PEOPLE ` Facet: people or corporate bodies where the identity is knowable, but has not yet been thoroughly researched\n",
    "\n",
    "Records may be linked through associative relationships, including professional relationships (e.g. *assistant of*, *influenced*) and familial relationships (e.g. *child of*, *sibling of*). See [here](https://www.getty.edu/vow/ULANFullDisplay?find=van+gogh&role=&nation=&page=1&subjectid=500115588) for an example of an ULAN record. \n",
    "\n",
    "The ULAN is also available as Linked Open Data, and can be accessed through the Sparql Endpoint. Most of the ULAN records are in English, but notes and descriptions are sometimes translated to other languages, including Dutch. \n",
    "\n",
    "\n",
    "### [Iconography Authority]()"
   ]
  },
  {
   "cell_type": "markdown",
   "metadata": {},
   "source": [
    "## AAT and Data Station SSH"
   ]
  },
  {
   "cell_type": "markdown",
   "metadata": {},
   "source": [
    "The following properties are useful: \n",
    "- `Subject_ID` allows for a link back to the source \n",
    "- `Term_Language` (possibly only keep Dutch and English entries)\n",
    "- `Term_ID` \n",
    "- `Term_Text` \n",
    "\n",
    "\n"
   ]
  },
  {
   "cell_type": "markdown",
   "metadata": {},
   "source": [
    "There's different `Record_Types` for nodes:\n",
    "- Facet\n",
    "- Hierarchy\n",
    "- Concept\n",
    "- GuideTerm (placeholder to create a level in the hierarchy)\n",
    "- (ScopeNote)\n",
    "- (ObsoleteSubject)\n",
    "\n",
    "\n",
    "![example of the use of different terms](img/008-complex-hierarchy.png)\n",
    "\n",
    "[image source](https://vocab.getty.edu/doc/#Term)\n"
   ]
  },
  {
   "cell_type": "markdown",
   "metadata": {},
   "source": [
    "### Challenges\n",
    "- **Size**: the AAT contains more than 50.000 records that all refer to unique concepts. If we would use the Dutch terms for each concept, it would mean we have 50.000 keywords to choose from. Many of these terms may be topically irrelevant, too specific or too broad for our purposes. \n",
    "- **Lack of generalizability across facets**: each facet has its own internal logic. A path that may lead to useful terms in one facet might not translate to another facet. \n",
    "- \n",
    "\n",
    "\n",
    "\n",
    "### Recommendations \n",
    "- Curation per facet: establish a path to a layer that yields keyword at the desired level of granularity for each facet. Some facets may be excluded entirely (e.g. `Brand Names`)\n",
    "- It may be more efficient to combine some of the facets with information from other thesauri/structured vocabularies "
   ]
  },
  {
   "cell_type": "markdown",
   "metadata": {},
   "source": [
    "### Let's look at the facets \n",
    "\n",
    "TODO: \\\n",
    "Add examples \\\n",
    "Add conclusions \n"
   ]
  },
  {
   "cell_type": "markdown",
   "metadata": {},
   "source": [
    "[`Associated concepts`](https://www.getty.edu/vow/AATHierarchy?find=beauty&logic=AND&note=&subjectid=300179462)\n",
    "- e.g. philosofical concepts, scientific concepts etc\n",
    "+ leaf nodes useful\n",
    "± hierarchy names sometimes useful\n",
    "\n",
    "\n",
    "[`Physical attributes`](https://www.getty.edu/vow/AATHierarchy?find=beauty&logic=AND&note=&page=1&subjectid=300264087)\n",
    "- leaf nodes not that useful (too specific)\n",
    "± hierarchy names somewhat useful\n",
    "\n",
    "\n",
    "[`Styles and Periods`](https://www.getty.edu/vow/AATHierarchy?find=beauty&logic=AND&note=&subjectid=300015646)\n",
    "+ nodes under the hierarchy nodes useful\n",
    "+ hierarchy nodes and guide terms not useful\n",
    "\n",
    "\n",
    "\n",
    "[`Agents`](https://www.getty.edu/vow/AATHierarchy?find=beauty&logic=AND&note=&page=1&subjectid=300264089)\n",
    "- categories of people/organizations/animals/plants\n",
    "- too detailed?\n",
    "- node leafs or node leafs -1 might be useful \n",
    "- \n",
    "\n",
    "\n",
    "[`Activities`](https://www.getty.edu/vow/AATHierarchy?find=beauty&logic=AND&note=&subjectid=300264090)\n",
    "- does not seem really useful to me \n",
    "- a lot of verbs that you probably wouldn't use to describe a dataset \n",
    "\n",
    "[`Materials`](https://www.getty.edu/vow/AATHierarchy?find=beauty&logic=AND&note=&subjectid=300264091)\n",
    "- hierarchy/guide terms nodes are not useful \n",
    "- not sure if the leaf nodes are interesting \n",
    "\n",
    "[`Objects`](https://www.getty.edu/vow/AATHierarchy?find=beauty&logic=AND&note=&subjectid=300264092)\n",
    "- largest category \n",
    "- hierarchy nodes useful\n",
    "- leaf nodes useful (when of hierarchy nodes)\n",
    "- deeper leaf nodes may be too specific (e.g. types of comic operas)\n",
    "\n",
    "\n",
    "[`Brand Names`](https://www.getty.edu/vow/AATHierarchy?find=beauty&logic=AND&note=&subjectid=300343372)\n",
    "- not useful for our purpose, was introduced by the conservation community for materials/processes/objects don't have a generic name but rather a name under trademark protection. \n",
    "\n",
    "\n",
    "\n",
    "--> I'd say `Associated concepts`, `Styles and Periods`, and `Objects` are the facets with the concepts that could be most useful as keywords for finding/describing datasets.  "
   ]
  }
 ],
 "metadata": {
  "kernelspec": {
   "display_name": ".venv",
   "language": "python",
   "name": "python3"
  },
  "language_info": {
   "codemirror_mode": {
    "name": "ipython",
    "version": 3
   },
   "file_extension": ".py",
   "mimetype": "text/x-python",
   "name": "python",
   "nbconvert_exporter": "python",
   "pygments_lexer": "ipython3",
   "version": "3.13.0"
  }
 },
 "nbformat": 4,
 "nbformat_minor": 2
}
