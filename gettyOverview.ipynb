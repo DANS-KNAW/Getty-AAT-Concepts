{
 "cells": [
  {
   "cell_type": "markdown",
   "metadata": {},
   "source": [
    "# Getty AAT"
   ]
  },
  {
   "cell_type": "markdown",
   "metadata": {},
   "source": [
    "## What is the AAT? "
   ]
  },
  {
   "cell_type": "markdown",
   "metadata": {},
   "source": [
    "The **Getty Arts & Architecture Thesaurus** is a multilingual, semantically structured vocabulary. It encompases terms, descriptions, and other information for generic concepts related to art, architecture, archaeology, and other cultural heritage ([Cobb, 2015](https://doi.org/10.1080/19386389.2015.1103081)). Importantly, the AAT contains generic terms, not iconographic subjects or proper names. In other words: [\"each concept is a case of many (a generic thing), not a case of one (a specific thing)\"](https://www.getty.edu/research/tools/vocabularies/aat/about.html)\n",
    "\n",
    "\n",
    "- The full published data set contains around 57,390 records (subject_id) and 503,230 terms (term_id), as of 25 August 2022)\n",
    "  - Subject_ids contain one or more terms (plural, translations, spelling variations etc.)\n",
    "- It's translated completely to Dutch by the Netherlands Institute for Art History (more info needed)\n",
    "- The Getty Vocabularies are compiled resources, so they are not comprehensive. They expand through [contributions](https://www.getty.edu/research/tools/vocabularies/contributors.html) of the community. \n",
    "- It's also released as Linked Open Data, described using RDF. \n",
    "- A minimum record in AAT contains a numeric ID, a term, and a position in the hierarchy.\n"
   ]
  },
  {
   "cell_type": "markdown",
   "metadata": {},
   "source": [
    "See [this Turtle file](sparql/aat_300123559.ttl) for an example of an AAT record. "
   ]
  },
  {
   "cell_type": "markdown",
   "metadata": {},
   "source": [
    "### Terminology\n",
    "- `Facet`: The major subdivision of AAT's hierarchical structure, containing classes of concepts.  \n",
    "- `Hierarchy`: Groupings of terminology that are arranged within the seven facets.  \n",
    "- `Record`: A single entry that contains information about a specific concept.  \n",
    "- `Term`: A word or phrase that represents the concept in the record. Includes singular/plural forms, spelling variations, and translations. A record can contain multiple terms.   \n",
    "- `Descriptor` or preferred term: The term that will by default used to refer to a concept. "
   ]
  },
  {
   "cell_type": "markdown",
   "metadata": {},
   "source": [
    "Here's an example of a record:\n",
    "\n",
    "<div>\n",
    "<img src=\"img/example_record.png\" width=\"500\"/>\n",
    "</div>\n",
    "\n",
    "\n",
    "[Image source](https://www.getty.edu/research/tools/vocabularies/aat/AAT-Users-Manual.pdf)"
   ]
  },
  {
   "cell_type": "markdown",
   "metadata": {},
   "source": [
    "## What does the AAT contain?"
   ]
  },
  {
   "cell_type": "markdown",
   "metadata": {},
   "source": [
    "The [AAT](https://www.getty.edu/vow/AATHierarchy?find=beauty&logic=AND&note=&page=1&subjectid=300000000) is a faceted, hierarchical database of concepts. The root is called \"Top of the AAT hierarchies\". It contains seven ***facets*** that form the major subdivisions, each containing a class of concepts. Each facet contains one or more ***hierarchies***. "
   ]
  },
  {
   "cell_type": "markdown",
   "metadata": {},
   "source": [
    "- `Root`: Top of the AAT hierarchies \n",
    "\t- `ASSOCIATED CONCEPT` FACET\n",
    "\t\t- Associated Concepts\n",
    "\t- `PHYSICAL ATTRIBUTES` FACET\n",
    "\t\t- Attributes and Properties\n",
    "\t\t- Conditions and Effects\n",
    "\t\t- Design Elements\n",
    "\t\t- Color\n",
    "\t- `STYLES AND PERIODS` FACET\n",
    "\t\t- Styles and Periods\n",
    "\t- `AGENTS` FACET\n",
    "\t\t- People\n",
    "\t\t- Organizations\n",
    "\t\t- Living Organisms\n",
    "\t- `ACTIVITIES` FACET\n",
    "\t\t- Disciplines\n",
    "\t\t- Functions\n",
    "\t\t- Events\n",
    "\t\t- Physical and Mental Activities\n",
    "\t\t- Processes and Techniques\n",
    "\t- `MATERIALS` FACET\n",
    "\t\t- Materials\n",
    "\t- `OBJECTS` FACET\n",
    "\t\t- Object Groupings and Systems\n",
    "\t\t- Object Genres \n",
    "\t\t- Components\n",
    "\t\t- Built Environment\n",
    "\t\t\t- Settlements and Landscapes\n",
    "\t\t\t- Built Complexes and Districts\n",
    "\t\t\t- Single Built Works\n",
    "\t\t\t- Open Spaces and Site Elements\n",
    "\t\t- Furnishings and Equipment\n",
    "\t\t\t- Furnishings\n",
    "\t\t\t- Costume\n",
    "\t\t\t- Tools and Equipment\n",
    "\t\t\t- Weapons and Ammunition\n",
    "\t\t\t- Measuring Devices\n",
    "\t\t\t- Containers\n",
    "\t\t\t- Sound Decides\n",
    "\t\t\t-  Recreational Artifacts\n",
    "\t\t\t- Transportation Vehicles\n",
    "\t\t- Visual and Verbal Communication\n",
    "\t\t\t- Visual Works\n",
    "\t\t\t- Exchange Media\n",
    "\t\t\t- Information Forms\n",
    "\t- `BRAND NAMES` FACET\n",
    "\t\t- Brand Names\n"
   ]
  },
  {
   "cell_type": "markdown",
   "metadata": {},
   "source": [
    "- There's different `Record_Types` for nodes:\n",
    "    - Facet\n",
    "    - Hierarchy\n",
    "    - Concept\n",
    "    - GuideTerm (placeholder to create a level in the hierarchy)\n",
    "    - (ScopeNote)\n",
    "    - (ObsoleteSubject)\n"
   ]
  },
  {
   "cell_type": "markdown",
   "metadata": {},
   "source": [
    "![example of the use of different terms](img/008-complex-hierarchy.png)\n",
    "\n",
    "[image source](https://vocab.getty.edu/doc/#Term)"
   ]
  },
  {
   "cell_type": "markdown",
   "metadata": {},
   "source": [
    "### Other Getty Vocabularies\n",
    "\n",
    "##### [ULAN](https://www.getty.edu/research/tools/vocabularies/ulan/about.html)\n",
    "The AAT is one example of the vocabularies that are developed by the Getty Institute. There's [more](https://www.getty.edu/research/tools/vocabularies/index.html), for example the Union List of Artist Names (ULAN). It contains records for artists and agents in the cultural landscape, specifically the visual arts. This includes [names, relationships, and biographical information for makers and other people and corporate bodies](https://www.getty.edu/research/tools/vocabularies/ulan/about.html#scope). \n",
    "\n",
    "Similar to the AAT, the ULAN consists or *records*, in this case referring to a unique person, institute or corporation. A record can contain mutliple *terms* that may capture [given names, pseudonyms, variant spellings, names in multiple languages, and names that have changed over time](https://www.getty.edu/research/tools/vocabularies/ulan/about.html#scope). A minimal record contains the following fields: record type, name, name source, display biography, nationality, role, birth date and death date. \n",
    "\n",
    "See an overview of the ULAN Facets below. Information is taken from the [ULAN documentation](https://www.getty.edu/research/tools/vocabularies/ulan/about.html#scope)\n",
    "\n",
    "\n",
    "- `PERSONS, ARTIST` Facet: represents information about individuals involved in the creation or production of works of art or architecture (e.g., *Rembrandt van Rijn*)\n",
    "- `CORPORATE BODIES` Facet: represents information about corporate bodies, defined as two or more people working together to create or produce art or architecture (e.g., *Adler and Sullivan*)\n",
    "- `NON-ARTISTS` Facet: mostly represents patrons, who often had input in the creative process, and occasionally donors, sitters, and others whose names are required for indexing visual works but who are themselves not artists.  \n",
    "- `UNKNOWN PEOPLE BY CULTURE` Facet: refers to the generic culture in which a work was created (e.g. *unknown Aztec*, or simply *Aztec*)\n",
    "- `UNIDENTIFIED NAMED PEOPLE ` Facet: people or corporate bodies where the identity is knowable, but has not yet been thoroughly researched\n",
    "\n",
    "Records may be linked through associative relationships, including professional relationships (e.g. *assistant of*, *influenced*) and familial relationships (e.g. *child of*, *sibling of*). See [here](https://www.getty.edu/vow/ULANFullDisplay?find=van+gogh&role=&nation=&page=1&subjectid=500115588) for an example of an ULAN record. \n",
    "\n",
    "Most of the ULAN records are in English, but notes and descriptions are sometimes translated to other languages, including Dutch. \n",
    "\n",
    "\n",
    "##### [Iconography Authority]()"
   ]
  },
  {
   "cell_type": "markdown",
   "metadata": {},
   "source": [
    "## AAT in other projects \n",
    "\n",
    "\n",
    "- [Alexiev, V., Isaac, A., & Lindenthal, J. (2016). On the composition of ISO 25964 hierarchical relations (BTG, BTP, BTI). International Journal on Digital Libraries, 17, 39-48.](https://link.springer.com/content/pdf/10.1007/s00799-015-0162-2.pdf)\n",
    "\n",
    "- The website [termennetwerk.netwerkdigitaalerfgoed.nl](https://termennetwerk.netwerkdigitaalerfgoed.nl/) presents a Dutch search engine for terms, and links them to their URIs in a variety of thesauri. \n",
    "\n",
    "- [Europeana](): \"an online information portal, provides access to millions of cultural heritage\n",
    "resources by aggregating metadata from museums, libraries, and archives across Europe.\" [source:](file:///Users/alessandrapolimeno/Downloads/pkpadmin,+Baca_Gill_NASKO_2015-1.pdf). --> multilingualism \n",
    "\n",
    "\n"
   ]
  },
  {
   "cell_type": "markdown",
   "metadata": {},
   "source": [
    "## How can the AAT be used? "
   ]
  },
  {
   "cell_type": "markdown",
   "metadata": {},
   "source": [
    "\n",
    "#### [SPARQL Endpoint](https://vocab.getty.edu/)\n",
    "\n",
    "- Concepts are indentified by their 'Subject_ID'\n",
    "\n",
    "- The AAT is availavble in the following formats: XML, relational tables, N-Tripes (LOD)\n",
    "- Individual records can be downloaded in JSON, RDF, N3/Turtle, N-Tripes\n"
   ]
  },
  {
   "cell_type": "markdown",
   "metadata": {},
   "source": [
    "#### [API](http://vocabsservices.getty.edu/Docs/Getty_Vocabularies_Web_Services_Documentation_v2.pdf)\n",
    "- [AAT Programming guidelines](http://vocabsservices.getty.edu/AATService.asmx)\n",
    "  - a set of 11 operations are supported, such as GetChildren, GetParents, GetSubjectTerms\n",
    "  - examples included in SOAP 1.1 and 1.2, HTTP GET, and HTTP POST protocols\n",
    "- Try out the GetChildren operation with HTTP POST protocol [here](http://vocabsservices.getty.edu/AATService.asmx?op=AATGetChildren) (subjectID: 300015646)\n",
    "\n",
    "- Or run HTTP GET requests for some operators (see [GetParentLabel](http/getparentlabel.http) and [getSubjectTerms](http/getsubjectterms.http))\n"
   ]
  },
  {
   "cell_type": "markdown",
   "metadata": {},
   "source": [
    "## AAT and Data Station SSH"
   ]
  },
  {
   "cell_type": "markdown",
   "metadata": {},
   "source": [
    "The following properties are useful: \n",
    "- `Subject_ID` allows for a link back to the source \n",
    "- `Term_Language` (possibly only keep Dutch and English entries)\n",
    "- `Term_ID` \n",
    "- `Term_Text` \n",
    "\n",
    "\n"
   ]
  },
  {
   "cell_type": "markdown",
   "metadata": {},
   "source": [
    "### Challenges\n",
    "- **Size**: the AAT contains more than 50.000 records that all refer to unique concepts. If we would use the Dutch terms for each concept, it would mean we have 50.000 keywords to choose from. Many of these terms may be topically irrelevant, too specific or too broad for our purposes. \n",
    "- **Lack of generalizability across facets**: each facet has its own internal logic. A path that may lead to useful terms in one facet might not translate to another facet. \n",
    "- \n",
    "\n",
    "\n",
    "\n",
    "### Recommendations \n",
    "- Curation per facet: establish a path to a layer that yields keyword at the desired level of granularity for each facet. Some facets may be excluded entirely (e.g. `Brand Names`)\n",
    "- It may be more efficient to combine some of the facets with information from other thesauri/structured vocabularies "
   ]
  },
  {
   "cell_type": "markdown",
   "metadata": {},
   "source": [
    "### Let's look at the facets "
   ]
  },
  {
   "cell_type": "markdown",
   "metadata": {},
   "source": [
    "[`Associated concepts`](https://www.getty.edu/vow/AATHierarchy?find=beauty&logic=AND&note=&subjectid=300179462)\n",
    "- e.g. philosofical concepts, scientific concepts etc\n",
    "+ leaf nodes useful\n",
    "± hierarchy names sometimes useful\n",
    "\n",
    "\n",
    "[`Physical attributes`](https://www.getty.edu/vow/AATHierarchy?find=beauty&logic=AND&note=&page=1&subjectid=300264087)\n",
    "- leaf nodes not that useful (too specific)\n",
    "± hierarchy names somewhat useful\n",
    "\n",
    "\n",
    "[`Styles and Periods`](https://www.getty.edu/vow/AATHierarchy?find=beauty&logic=AND&note=&subjectid=300015646)\n",
    "+ nodes under the hierarchy nodes useful\n",
    "+ hierarchy nodes and guide terms not useful\n",
    "\n",
    "\n",
    "\n",
    "[`Agents`](https://www.getty.edu/vow/AATHierarchy?find=beauty&logic=AND&note=&page=1&subjectid=300264089)\n",
    "- categories of people/organizations/animals/plants\n",
    "- too detailed?\n",
    "- node leafs or node leafs -1 might be useful \n",
    "- \n",
    "\n",
    "\n",
    "[`Activities`](https://www.getty.edu/vow/AATHierarchy?find=beauty&logic=AND&note=&subjectid=300264090)\n",
    "- does not seem really useful to me \n",
    "- a lot of verbs that you probably wouldn't use to describe a dataset \n",
    "\n",
    "[`Materials`]()\n",
    "- hierarchy/guide terms nodes are not useful \n",
    "- not sure if the leaf nodes are interesting \n",
    "\n",
    "[`Objects`](https://www.getty.edu/vow/AATHierarchy?find=beauty&logic=AND&note=&subjectid=300264092)\n",
    "- largest category \n",
    "- hierarchy nodes useful\n",
    "- leaf nodes useful (when of hierarchy nodes)\n",
    "- deeper leaf nodes may be too specific (e.g. types of comic operas)\n",
    "\n",
    "\n",
    "[`Brand Names`]()\n",
    "- not useful for our purpose, was introduced by the conservation community for materials/processes/objects don't have a generic name but rather a name under trademark protection. \n",
    "\n",
    "\n",
    "\n",
    "--> I'd say `Associated concepts`, `Styles and Periods`, and `Objects` are the facets with the concepts that could be most useful as keywords for finding/describing datasets.  "
   ]
  },
  {
   "cell_type": "markdown",
   "metadata": {},
   "source": [
    "## Notes\n",
    "- Entailment? Do we want to keep the hierarchical relationships in place? So if you were to search for \"painting \", do you want to match all terms it contains? or only the exact level? \n",
    "- Overall, hierarchy names seem like good categories to me, but so do the leaf nodes. Facets and guide terms don't seem that useful for this use. The usefulness of concepts depends on the facet (sometimes too fine-grained)"
   ]
  }
 ],
 "metadata": {
  "kernelspec": {
   "display_name": "Python 3",
   "language": "python",
   "name": "python3"
  },
  "language_info": {
   "codemirror_mode": {
    "name": "ipython",
    "version": 3
   },
   "file_extension": ".py",
   "mimetype": "text/x-python",
   "name": "python",
   "nbconvert_exporter": "python",
   "pygments_lexer": "ipython3",
   "version": "3.13.0"
  }
 },
 "nbformat": 4,
 "nbformat_minor": 2
}
