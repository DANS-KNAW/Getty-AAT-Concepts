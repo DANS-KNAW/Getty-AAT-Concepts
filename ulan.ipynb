{
 "cells": [
  {
   "cell_type": "code",
   "execution_count": 9,
   "metadata": {},
   "outputs": [],
   "source": [
    "# imports SPARQL prefixes and functions defs\n",
    "\n",
    "from pprint import pprint\n",
    "from SPARQLWrapper import SPARQLWrapper, JSON, TURTLE, CSV \n",
    "\n",
    "prefixes = '''    \n",
    "PREFIX rdfs: <http://www.w3.org/2000/01/rdf-schema#>\n",
    "PREFIX aat: <http://vocab.getty.edu/aat/>\n",
    "PREFIX gvp: <http://vocab.getty.edu/ontology#> \n",
    "PREFIX skos: <http://www.w3.org/2004/02/skos/core#>\n",
    "PREFIX skosxl: <http://www.w3.org/2008/05/skos-xl#>\n",
    "PREFIX dcterms: <http://purl.org/dc/terms/>\n",
    "PREFIX ulan: <http://vocab.getty.edu/ulan/>\n",
    "'''    \n",
    "\n",
    "\n",
    "def sparql_query(query, format):\n",
    "    formats = {\"json\": JSON, \"turtle\": TURTLE, \"csv\": CSV}\n",
    "    f_ = formats[format]\n",
    "    endpoint = \"http://vocab.getty.edu/sparql\"\n",
    "    sparql = SPARQLWrapper(endpoint)\n",
    "\n",
    "    query = prefixes + query     \n",
    "    sparql.setQuery(query)\n",
    "\n",
    "    sparql.setReturnFormat(f_)\n",
    "    results = sparql.query().convert()    \n",
    "    # sparql.setReturnFormat(XML)\n",
    "    # results = sparql.query()\n",
    "    return results\n",
    "    # # Print the results\n",
    "    # print(\"Subject ID: \", subjectID)\n",
    "    # \n",
    "\n",
    "\n",
    "def print_sparql_results(results):\n",
    "    for row in results[\"results\"][\"bindings\"]:\n",
    "        return (row)\n"
   ]
  },
  {
   "cell_type": "markdown",
   "metadata": {},
   "source": [
    "ULAN is organized according to the following Facets\n",
    "* http://vocab.getty.edu/ulan/500000002,\"Persons, Artists\" (total of 963.716 concepts)\n",
    "* http://vocab.getty.edu/ulan/500000003,Corporate Bodies\n",
    "* http://vocab.getty.edu/ulan/500125081,Unknown Person by Culture\n",
    "* http://vocab.getty.edu/ulan/500299802,Non-Artists\n",
    "* http://vocab.getty.edu/ulan/500355043,Unidentified Named People and Firms\n",
    "\n",
    "In the following queries, I will explore how to get concepts from one of those Facets"
   ]
  },
  {
   "cell_type": "code",
   "execution_count": null,
   "metadata": {},
   "outputs": [],
   "source": [
    "# query ULAN ConceptScheme, form member of the ulan:500000002 \"Persons, Artists\" facet\n",
    "\n",
    "ulan_concepts_q= '''\n",
    "SELECT *\n",
    "WHERE {\n",
    "    ?concept skos:inScheme ulan: ;\n",
    "             gvp:broader ulan:500000002 ;\n",
    "             rdfs:label ?label .\n",
    "\n",
    "    }\n",
    "LIMIT 10\n",
    "'''\n",
    "\n",
    "ulan_concepts = sparql_query(query=ulan_concepts_q, format='csv')\n",
    "print(ulan_concepts)\n",
    "\n",
    "\n"
   ]
  },
  {
   "cell_type": "markdown",
   "metadata": {},
   "source": [
    "\n",
    "Concepts from the following Facets, are returned, when we query for concepts that have `gvp:broader FACET-URI`\n",
    "\n",
    "  \n",
    "\n",
    "- `PERSONS, ARTIST` Facet:  ulan:500000002  \n",
    "- `CORPORATE BODIES` Facet: ulan:500000003\n",
    "- `NON-ARTISTS` Facet: mostly represents patrons, who often had input in the creative process, and occasionally donors, sitters, and others whose names are required for indexing visual works but who are themselves not artists.  \n",
    "- `UNKNOWN PEOPLE BY CULTURE` Facet: refers to the generic culture in which a work was created (e.g. *unknown Aztec*, or simply *Aztec*)\n",
    " - `UNIDENTIFIED NAMED PEOPLE ` Facet: people or corporate bodies where the identity is knowable, but has not yet been thoroughly researched\n"
   ]
  }
 ],
 "metadata": {
  "kernelspec": {
   "display_name": "venv",
   "language": "python",
   "name": "python3"
  },
  "language_info": {
   "codemirror_mode": {
    "name": "ipython",
    "version": 3
   },
   "file_extension": ".py",
   "mimetype": "text/x-python",
   "name": "python",
   "nbconvert_exporter": "python",
   "pygments_lexer": "ipython3",
   "version": "3.12.3"
  }
 },
 "nbformat": 4,
 "nbformat_minor": 2
}
